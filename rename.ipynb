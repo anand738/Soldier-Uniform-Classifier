{
 "cells": [
  {
   "cell_type": "code",
   "execution_count": null,
   "metadata": {},
   "outputs": [],
   "source": [
    "import os\n",
    "\n",
    "def rename_images_in_folder(folder_path, extension='jpg'):\n",
    "    files = [f for f in os.listdir(folder_path) if f.lower().endswith(f'.{extension}')]\n",
    "    files.sort()  # Sort files alphabetically\n",
    "    \n",
    "    for index, file_name in enumerate(files, start=1):\n",
    "        old_path = os.path.join(folder_path, file_name)\n",
    "        new_filename = f\"{index}.{extension}\"\n",
    "        new_path = os.path.join(folder_path, new_filename)\n",
    "        \n",
    "        os.rename(old_path, new_path)\n",
    "        print(f\"Renamed: {file_name} → {new_filename}\")\n",
    "\n",
    "rename_images_in_folder(r\"C:\\Users\\User\\Desktop\\3frames\\dataset\\Jammu & Kashmir Police\", extension='png')\n"
   ]
  }
 ],
 "metadata": {
  "language_info": {
   "name": "python"
  },
  "orig_nbformat": 4
 },
 "nbformat": 4,
 "nbformat_minor": 2
}
